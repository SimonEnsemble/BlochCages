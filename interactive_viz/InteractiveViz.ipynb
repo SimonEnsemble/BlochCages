{
 "cells": [
  {
   "cell_type": "code",
   "execution_count": 28,
   "metadata": {},
   "outputs": [],
   "source": [
    "using Bio3DView"
   ]
  },
  {
   "cell_type": "code",
   "execution_count": 29,
   "metadata": {},
   "outputs": [],
   "source": [
    "html = viewfile(\"../simulations/data/crystals/Mo_cage_only.xyz\", \"xyz\",\n",
    "     html=true, style=Style(\"sphere\", Dict(\"scale\" => 0.8)))\n",
    "\n",
    "f = open(\"Mo_cage_viz.html\", \"w\")\n",
    "write(f, html)\n",
    "close(f)"
   ]
  }
 ],
 "metadata": {
  "kernelspec": {
   "display_name": "Julia 1.1.0",
   "language": "julia",
   "name": "julia-1.1"
  },
  "language_info": {
   "file_extension": ".jl",
   "mimetype": "application/julia",
   "name": "julia",
   "version": "1.1.0"
  }
 },
 "nbformat": 4,
 "nbformat_minor": 2
}
